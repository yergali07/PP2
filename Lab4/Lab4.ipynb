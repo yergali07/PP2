{
 "cells": [
  {
   "cell_type": "code",
   "execution_count": null,
   "metadata": {},
   "outputs": [
    {
     "name": "stdout",
     "output_type": "stream",
     "text": [
      "0\n",
      "1\n",
      "4\n"
     ]
    }
   ],
   "source": [
    "# Python Iterators, Generators\n",
    "# N1\n",
    "def square(n):\n",
    "    for i in range(n):\n",
    "        yield i**2\n",
    "    \n",
    "n = int(input())\n",
    "for i in square(n):\n",
    "    print(i)"
   ]
  },
  {
   "cell_type": "code",
   "execution_count": null,
   "metadata": {},
   "outputs": [
    {
     "name": "stdout",
     "output_type": "stream",
     "text": [
      "0\n",
      "2\n",
      "4\n",
      "6\n",
      "8\n"
     ]
    }
   ],
   "source": [
    "# N2\n",
    "def even(n):\n",
    "    for i in range(n):\n",
    "        if i % 2 == 0:\n",
    "            yield i\n",
    "\n",
    "n = int(input())\n",
    "for i in even(n):\n",
    "    print(i)"
   ]
  },
  {
   "cell_type": "code",
   "execution_count": null,
   "metadata": {},
   "outputs": [],
   "source": [
    "# N3\n",
    "def func(n):\n",
    "    for i in range(n):\n",
    "        if i % 3 == 0 and i % 4 == 0:\n",
    "            yield i\n",
    "\n",
    "n = int(input())\n",
    "for i in func(n):\n",
    "    print(i)"
   ]
  },
  {
   "cell_type": "code",
   "execution_count": null,
   "metadata": {},
   "outputs": [],
   "source": [
    "# N4\n",
    "def squares(a, b):\n",
    "    for i in range(a, b):\n",
    "        yield i**2\n",
    "\n",
    "\n",
    "a = int(input())\n",
    "b = int(input())\n",
    "for i in squares(a, b):\n",
    "    print(i)"
   ]
  },
  {
   "cell_type": "code",
   "execution_count": null,
   "metadata": {},
   "outputs": [],
   "source": [
    "# N5\n",
    "def func(n):\n",
    "    for i in range(n, 0, -1):\n",
    "        yield i\n",
    "    \n",
    "n = int(input())\n",
    "for i in func(n):\n",
    "    print(i)"
   ]
  },
  {
   "cell_type": "code",
   "execution_count": null,
   "metadata": {},
   "outputs": [
    {
     "name": "stdout",
     "output_type": "stream",
     "text": [
      "2025-02-19\n"
     ]
    }
   ],
   "source": [
    "# Python Dates\n",
    "# N1\n",
    "from datetime import datetime\n",
    "from datetime import timedelta\n",
    "\n",
    "date = datetime.now()\n",
    "date = date - timedelta(days=5)\n",
    "\n",
    "print(datetime.strftime(date, '%Y-%m-%d'))"
   ]
  },
  {
   "cell_type": "code",
   "execution_count": 11,
   "metadata": {},
   "outputs": [
    {
     "name": "stdout",
     "output_type": "stream",
     "text": [
      "2025-02-23\n",
      "2025-02-24\n",
      "2025-02-25\n"
     ]
    }
   ],
   "source": [
    "# N2\n",
    "from datetime import datetime\n",
    "from datetime import timedelta\n",
    "\n",
    "today = datetime.now()\n",
    "yesterday = today - timedelta(days=1)\n",
    "tomorrow = today + timedelta(days=1)\n",
    "\n",
    "print(datetime.strftime(yesterday, '%Y-%m-%d'))\n",
    "print(datetime.strftime(today, '%Y-%m-%d'))\n",
    "print(datetime.strftime(tomorrow, '%Y-%m-%d'))\n"
   ]
  },
  {
   "cell_type": "code",
   "execution_count": null,
   "metadata": {},
   "outputs": [
    {
     "name": "stdout",
     "output_type": "stream",
     "text": [
      "2025-02-24 15:12:24\n",
      "893227\n"
     ]
    }
   ],
   "source": [
    "# N3\n",
    "from datetime import datetime\n",
    "\n",
    "today = datetime.now()\n",
    "\n",
    "print(datetime.strftime(today, '%Y-%m-%d %H:%M:%S'))\n",
    "print(datetime.strftime(today, '%f'))"
   ]
  },
  {
   "cell_type": "code",
   "execution_count": null,
   "metadata": {},
   "outputs": [
    {
     "name": "stdout",
     "output_type": "stream",
     "text": [
      "3024000.0\n"
     ]
    }
   ],
   "source": [
    "# N4\n",
    "from datetime import datetime\n",
    "\n",
    "date1 = datetime.strptime(input(), '%Y-%m-%d %H:%M:%S')\n",
    "date2 = datetime.strptime(input(), '%Y-%m-%d %H:%M:%S')\n",
    "\n",
    "diff = date2 - date1\n",
    "print(diff.total_seconds())"
   ]
  },
  {
   "cell_type": "code",
   "execution_count": null,
   "metadata": {},
   "outputs": [
    {
     "name": "stdout",
     "output_type": "stream",
     "text": [
      "Output radian: 0.2617993877991494\n"
     ]
    }
   ],
   "source": [
    "# Python Math\n",
    "# N1\n",
    "import math\n",
    "\n",
    "def deg_to_rad(deg):\n",
    "    return math.radians(deg)\n",
    "\n",
    "deg = float(input(\"Input degree:\"))\n",
    "print(\"Output radian:\", deg_to_rad(deg))"
   ]
  },
  {
   "cell_type": "code",
   "execution_count": null,
   "metadata": {},
   "outputs": [
    {
     "name": "stdout",
     "output_type": "stream",
     "text": [
      "Expected output: 27.5\n"
     ]
    }
   ],
   "source": [
    "# N2\n",
    "import math\n",
    "\n",
    "def area_of_trapezoid(a, b, h):\n",
    "    return (a + b) * h / 2\n",
    "\n",
    "h = float(input(\"Height:\"))\n",
    "a = float(input(\"Base, first value:\"))\n",
    "b = float(input(\"Base, second value:\"))\n",
    "\n",
    "print(\"Area:\", area_of_trapezoid(a, b, h))"
   ]
  },
  {
   "cell_type": "code",
   "execution_count": 27,
   "metadata": {},
   "outputs": [
    {
     "name": "stdout",
     "output_type": "stream",
     "text": [
      "Area: 625.0000000000001\n"
     ]
    }
   ],
   "source": [
    "# N3\n",
    "import math\n",
    "\n",
    "def area_of_polygon(n, s):\n",
    "    return (n * s**2) / (4 * math.tan(math.pi / n))\n",
    "\n",
    "n = int(input(\"Input number of sides:\"))\n",
    "s = float(input(\"Input the length of a side:\"))\n",
    "\n",
    "print(\"Area:\", area_of_polygon(n, s))"
   ]
  },
  {
   "cell_type": "code",
   "execution_count": 28,
   "metadata": {},
   "outputs": [
    {
     "name": "stdout",
     "output_type": "stream",
     "text": [
      "Area: 30.0\n"
     ]
    }
   ],
   "source": [
    "# N4\n",
    "import math\n",
    "\n",
    "def area_of_parallelogram(b, h):\n",
    "    return b * h\n",
    "\n",
    "b = float(input(\"Input base:\"))\n",
    "h = float(input(\"Input height:\"))\n",
    "\n",
    "print(\"Area:\", area_of_parallelogram(b, h))"
   ]
  }
 ],
 "metadata": {
  "kernelspec": {
   "display_name": ".venv",
   "language": "python",
   "name": "python3"
  },
  "language_info": {
   "codemirror_mode": {
    "name": "ipython",
    "version": 3
   },
   "file_extension": ".py",
   "mimetype": "text/x-python",
   "name": "python",
   "nbconvert_exporter": "python",
   "pygments_lexer": "ipython3",
   "version": "3.12.6"
  }
 },
 "nbformat": 4,
 "nbformat_minor": 2
}
