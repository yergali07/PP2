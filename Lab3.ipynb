{
 "cells": [
  {
   "cell_type": "code",
   "execution_count": 12,
   "metadata": {},
   "outputs": [
    {
     "ename": "ValueError",
     "evalue": "invalid literal for int() with base 10: ''",
     "output_type": "error",
     "traceback": [
      "\u001b[0;31m---------------------------------------------------------------------------\u001b[0m",
      "\u001b[0;31mValueError\u001b[0m                                Traceback (most recent call last)",
      "Cell \u001b[0;32mIn[12], line 6\u001b[0m\n\u001b[1;32m      3\u001b[0m     ounces \u001b[38;5;241m=\u001b[39m grams \u001b[38;5;241m*\u001b[39m \u001b[38;5;241m28.3495231\u001b[39m\n\u001b[1;32m      4\u001b[0m     \u001b[38;5;28;01mreturn\u001b[39;00m ounces\n\u001b[0;32m----> 6\u001b[0m n \u001b[38;5;241m=\u001b[39m \u001b[38;5;28;43mint\u001b[39;49m\u001b[43m(\u001b[49m\u001b[38;5;28;43minput\u001b[39;49m\u001b[43m(\u001b[49m\u001b[38;5;124;43m\"\u001b[39;49m\u001b[38;5;124;43mEnter the number of grams: \u001b[39;49m\u001b[38;5;124;43m\"\u001b[39;49m\u001b[43m)\u001b[49m\u001b[43m)\u001b[49m\n\u001b[1;32m      7\u001b[0m \u001b[38;5;28mprint\u001b[39m(\u001b[38;5;124mf\u001b[39m\u001b[38;5;124m\"\u001b[39m\u001b[38;5;132;01m{\u001b[39;00mn\u001b[38;5;132;01m}\u001b[39;00m\u001b[38;5;124m grams is equal to \u001b[39m\u001b[38;5;132;01m{\u001b[39;00mgrams_to_ounces(n)\u001b[38;5;132;01m}\u001b[39;00m\u001b[38;5;124m ounces.\u001b[39m\u001b[38;5;124m\"\u001b[39m)\n",
      "\u001b[0;31mValueError\u001b[0m: invalid literal for int() with base 10: ''"
     ]
    }
   ],
   "source": [
    "# Functions 1. Grams to Ounces\n",
    "def grams_to_ounces(grams):\n",
    "    ounces = grams * 28.3495231\n",
    "    return ounces\n",
    "\n",
    "n = int(input(\"Enter the number of grams: \"))\n",
    "print(f\"{n} grams is equal to {grams_to_ounces(n)} ounces.\")"
   ]
  },
  {
   "cell_type": "code",
   "execution_count": null,
   "metadata": {},
   "outputs": [],
   "source": [
    "# Functions 1. Fahrenheit to Celsius\n",
    "def fahrenheit_to_celsius(fahrenheit):\n",
    "    celsius = (fahrenheit - 32) * 5/9\n",
    "    return celsius\n",
    "\n",
    "n = int(input(\"Enter the temperature in Fahrenheit: \"))\n",
    "print(f\"{n}°F is equal to {fahrenheit_to_celsius(n)}°C.\")"
   ]
  },
  {
   "cell_type": "code",
   "execution_count": 4,
   "metadata": {},
   "outputs": [
    {
     "name": "stdout",
     "output_type": "stream",
     "text": [
      "There are 12.0 chickens and 23.0 rabbits.\n"
     ]
    }
   ],
   "source": [
    "# Functions 1. Heads and Legs\n",
    "def solve(heads, legs):\n",
    "    chickens = (legs - 2 * heads) / 2\n",
    "    rabbits = heads - chickens\n",
    "    return chickens, rabbits\n",
    "\n",
    "heads = int(input(\"Enter the number of heads: \"))\n",
    "legs = int(input(\"Enter the number of legs: \"))\n",
    "chickens, rabbits = solve(heads, legs)\n",
    "print(f\"There are {chickens} chickens and {rabbits} rabbits.\")"
   ]
  },
  {
   "cell_type": "code",
   "execution_count": 5,
   "metadata": {},
   "outputs": [
    {
     "name": "stdout",
     "output_type": "stream",
     "text": [
      "The prime numbers in the list are [3, 2, 5, 7, 11].\n"
     ]
    }
   ],
   "source": [
    "# Functions 1. Filter Primes\n",
    "def filter_prime(arr):\n",
    "    primes = []\n",
    "    for num in arr:\n",
    "        if num > 1:\n",
    "            for i in range(2, num):\n",
    "                if num % i == 0:\n",
    "                    break\n",
    "            else:\n",
    "                primes.append(num)\n",
    "    return primes\n",
    "\n",
    "arr = map(int, input(\"Enter a list of numbers: \").split())\n",
    "print(f\"The prime numbers in the list are {filter_prime(arr)}.\")"
   ]
  },
  {
   "cell_type": "code",
   "execution_count": 7,
   "metadata": {},
   "outputs": [
    {
     "name": "stdout",
     "output_type": "stream",
     "text": [
      "The permutations of the string are ['stack', 'stakc', 'stcak', 'stcka', 'stkac', 'stkca', 'satck', 'satkc', 'sactk', 'sackt', 'saktc', 'sakct', 'sctak', 'sctka', 'scatk', 'scakt', 'sckta', 'sckat', 'sktac', 'sktca', 'skatc', 'skact', 'skcta', 'skcat', 'tsack', 'tsakc', 'tscak', 'tscka', 'tskac', 'tskca', 'tasck', 'taskc', 'tacsk', 'tacks', 'taksc', 'takcs', 'tcsak', 'tcska', 'tcask', 'tcaks', 'tcksa', 'tckas', 'tksac', 'tksca', 'tkasc', 'tkacs', 'tkcsa', 'tkcas', 'astck', 'astkc', 'asctk', 'asckt', 'asktc', 'askct', 'atsck', 'atskc', 'atcsk', 'atcks', 'atksc', 'atkcs', 'acstk', 'acskt', 'actsk', 'actks', 'ackst', 'ackts', 'akstc', 'aksct', 'aktsc', 'aktcs', 'akcst', 'akcts', 'cstak', 'cstka', 'csatk', 'csakt', 'cskta', 'cskat', 'ctsak', 'ctska', 'ctask', 'ctaks', 'ctksa', 'ctkas', 'castk', 'caskt', 'catsk', 'catks', 'cakst', 'cakts', 'cksta', 'cksat', 'cktsa', 'cktas', 'ckast', 'ckats', 'kstac', 'kstca', 'ksatc', 'ksact', 'kscta', 'kscat', 'ktsac', 'ktsca', 'ktasc', 'ktacs', 'ktcsa', 'ktcas', 'kastc', 'kasct', 'katsc', 'katcs', 'kacst', 'kacts', 'kcsta', 'kcsat', 'kctsa', 'kctas', 'kcast', 'kcats'].\n"
     ]
    }
   ],
   "source": [
    "# Functions 1. String permutations\n",
    "from itertools import permutations\n",
    "\n",
    "def string_permutations(s):\n",
    "    return list(permutations(s))\n",
    "\n",
    "s = input(\"Enter a string: \")\n",
    "strings = [\"\".join(string) for string in string_permutations(s)]\n",
    "print(f\"The permutations of the string are {strings}.\")"
   ]
  },
  {
   "cell_type": "code",
   "execution_count": 8,
   "metadata": {},
   "outputs": [
    {
     "name": "stdout",
     "output_type": "stream",
     "text": [
      "The sentence with reversed words is Venom are We.\n"
     ]
    }
   ],
   "source": [
    "# Functions 1. Words reversed\n",
    "def reverse_words(s):\n",
    "    return \" \".join(s.split()[::-1])\n",
    "\n",
    "s = input(\"Enter a sentence: \")\n",
    "print(reverse_words(s))"
   ]
  },
  {
   "cell_type": "code",
   "execution_count": 9,
   "metadata": {},
   "outputs": [
    {
     "name": "stdout",
     "output_type": "stream",
     "text": [
      "True\n"
     ]
    }
   ],
   "source": [
    "# Functions 1. 3 next to a 3\n",
    "def has_33(arr):\n",
    "    for i in range(len(arr) - 1):\n",
    "        if arr[i] == arr[i + 1] == 3:\n",
    "            return True\n",
    "    return False\n",
    "\n",
    "arr = list(map(int, input(\"Enter a list of numbers: \").split()))\n",
    "print(has_33(arr))"
   ]
  },
  {
   "cell_type": "code",
   "execution_count": null,
   "metadata": {},
   "outputs": [],
   "source": [
    "# Functions 1. Has 007\n",
    "def has_007(arr):\n",
    "    for i in range(len(arr) - 2):\n",
    "        if arr[i] == 0 and arr[i + 1] == 0 and arr[i + 2] == 7:\n",
    "            return True\n",
    "    return False\n",
    "\n",
    "arr = list(map(int, input(\"Enter a list of numbers: \").split()))\n",
    "print(has_007(arr))"
   ]
  },
  {
   "cell_type": "code",
   "execution_count": null,
   "metadata": {},
   "outputs": [],
   "source": [
    "# Functions 1. Volume of a sphere\n",
    "def volume_of_sphere(radius):\n",
    "    volume = 4/3 * 3.14159 * radius ** 3\n",
    "    return volume\n",
    "\n",
    "radius = int(input(\"Enter the radius of the sphere: \"))\n",
    "print(f\"The volume of the sphere is {volume_of_sphere(radius)}.\")"
   ]
  },
  {
   "cell_type": "code",
   "execution_count": null,
   "metadata": {},
   "outputs": [],
   "source": [
    "# Functions 1. Unique elements without set\n",
    "def unique_elements(arr):\n",
    "    unique = []\n",
    "    for num in arr:\n",
    "        if num not in unique:\n",
    "            unique.append(num)\n",
    "    return unique\n",
    "\n",
    "arr = list(map(int, input(\"Enter a list of numbers: \").split()))\n",
    "print(f\"The unique elements in the list are {unique_elements(arr)}.\")"
   ]
  },
  {
   "cell_type": "code",
   "execution_count": null,
   "metadata": {},
   "outputs": [],
   "source": [
    "# Functions 1. Is palindrome\n",
    "def is_palindrome(s):\n",
    "    return s == s[::-1]\n",
    "\n",
    "s = input(\"Enter a string: \")\n",
    "print(is_palindrome(s))"
   ]
  },
  {
   "cell_type": "code",
   "execution_count": null,
   "metadata": {},
   "outputs": [],
   "source": [
    "# Functions 1. Histogram\n",
    "def histogram(arr):\n",
    "    for num in arr:\n",
    "        print(\"*\" * num)\n",
    "\n",
    "arr = list(map(int, input(\"Enter a list of numbers: \").split()))\n",
    "histogram(arr)"
   ]
  },
  {
   "cell_type": "code",
   "execution_count": 10,
   "metadata": {},
   "outputs": [
    {
     "name": "stdout",
     "output_type": "stream",
     "text": [
      "Hello! What is your name?\n",
      "Well, Yergali, I am thinking of a number between 1 and 20.\n",
      "Take a guess.\n",
      "Your guess is too low.\n",
      "Take a guess.\n",
      "Your guess is too low.\n",
      "Take a guess.\n",
      "Your guess is too low.\n",
      "Take a guess.\n",
      "Good job, Yergali! You guessed my number in 4 guesses!\n"
     ]
    }
   ],
   "source": [
    "# Functions 1. Guess the number\n",
    "import random\n",
    "\n",
    "def guess_the_number():\n",
    "    print(\"Hello! What is your name?\")\n",
    "    name = input()\n",
    "\n",
    "    print(f\"Well, {name}, I am thinking of a number between 1 and 20.\")\n",
    "    print(\"Take a guess.\")\n",
    "\n",
    "    number = random.randint(1, 20)\n",
    "\n",
    "    guess = int(input())\n",
    "    attempts = 1\n",
    "\n",
    "    while guess != number:\n",
    "        if guess < number:\n",
    "            print(\"Your guess is too low.\")\n",
    "        else:\n",
    "            print(\"Your guess is too high.\")\n",
    "        print(\"Take a guess.\")\n",
    "        guess = int(input())\n",
    "        attempts += 1\n",
    "\n",
    "    print(f\"Good job, {name}! You guessed my number in {attempts} guesses!\")\n",
    "\n",
    "guess_the_number()"
   ]
  },
  {
   "cell_type": "code",
   "execution_count": 12,
   "metadata": {},
   "outputs": [
    {
     "name": "stdout",
     "output_type": "stream",
     "text": [
      "True\n"
     ]
    }
   ],
   "source": [
    "# Functions 2. Is IMDb score good\n",
    "\n",
    "def is_good_movie(movie):\n",
    "    return movie[\"imdb\"] > 5.5\n",
    "\n",
    "movies = [\n",
    "{\n",
    "\"name\": \"Usual Suspects\", \n",
    "\"imdb\": 7.0,\n",
    "\"category\": \"Thriller\"\n",
    "},\n",
    "{\n",
    "\"name\": \"Hitman\",\n",
    "\"imdb\": 6.3,\n",
    "\"category\": \"Action\"\n",
    "},\n",
    "{\n",
    "\"name\": \"Dark Knight\",\n",
    "\"imdb\": 9.0,\n",
    "\"category\": \"Adventure\"\n",
    "},\n",
    "{\n",
    "\"name\": \"The Help\",\n",
    "\"imdb\": 8.0,\n",
    "\"category\": \"Drama\"\n",
    "},\n",
    "{\n",
    "\"name\": \"The Choice\",\n",
    "\"imdb\": 6.2,\n",
    "\"category\": \"Romance\"\n",
    "},\n",
    "{\n",
    "\"name\": \"Colonia\",\n",
    "\"imdb\": 7.4,\n",
    "\"category\": \"Romance\"\n",
    "},\n",
    "{\n",
    "\"name\": \"Love\",\n",
    "\"imdb\": 6.0,\n",
    "\"category\": \"Romance\"\n",
    "},\n",
    "{\n",
    "\"name\": \"Bride Wars\",\n",
    "\"imdb\": 5.4,\n",
    "\"category\": \"Romance\"\n",
    "},\n",
    "{\n",
    "\"name\": \"AlphaJet\",\n",
    "\"imdb\": 3.2,\n",
    "\"category\": \"War\"\n",
    "},\n",
    "{\n",
    "\"name\": \"Ringing Crime\",\n",
    "\"imdb\": 4.0,\n",
    "\"category\": \"Crime\"\n",
    "},\n",
    "{\n",
    "\"name\": \"Joking muck\",\n",
    "\"imdb\": 7.2,\n",
    "\"category\": \"Comedy\"\n",
    "},\n",
    "{\n",
    "\"name\": \"What is the name\",\n",
    "\"imdb\": 9.2,\n",
    "\"category\": \"Suspense\"\n",
    "},\n",
    "{\n",
    "\"name\": \"Detective\",\n",
    "\"imdb\": 7.0,\n",
    "\"category\": \"Suspense\"\n",
    "},\n",
    "{\n",
    "\"name\": \"Exam\",\n",
    "\"imdb\": 4.2,\n",
    "\"category\": \"Thriller\"\n",
    "},\n",
    "{\n",
    "\"name\": \"We Two\",\n",
    "\"imdb\": 7.2,\n",
    "\"category\": \"Romance\"\n",
    "}\n",
    "]\n",
    "\n",
    "print(is_good_movie(movies[0]))\n",
    "\n",
    "# Functions 2. Get good movies\n",
    "def get_good_movies(movies):\n",
    "    return [movie for movie in movies if is_good_movie(movie)]\n",
    "\n",
    "print(get_good_movies(movies))\n",
    "\n",
    "# Functions 2. Get category\n",
    "def get_category(movies, category):\n",
    "    return [movie for movie in movies if movie[\"category\"] == category]\n",
    "\n",
    "print(get_category(movies, \"Romance\"))\n",
    "\n",
    "# Functions 2. Get average score\n",
    "def average_movie_score(movies):\n",
    "    return sum(movie[\"imdb\"] for movie in movies) / len(movies)\n",
    "\n",
    "print(average_movie_score(movies))\n",
    "\n",
    "# Functions 2. Get average score for category\n",
    "def average_movie_score_category(movies, category):\n",
    "    category_movies = get_category(movies, category)\n",
    "    return average_movie_score(category_movies)\n",
    "\n",
    "print(average_movie_score_category(movies, \"Romance\"))"
   ]
  },
  {
   "cell_type": "code",
   "execution_count": null,
   "metadata": {},
   "outputs": [],
   "source": [
    "# Classes. Class with getString and printString methods\n",
    "class String:\n",
    "    def __init__(self):\n",
    "        self.string = \"\"\n",
    "\n",
    "    def get_string(self):\n",
    "        self.string = input(\"Enter a string: \")\n",
    "\n",
    "    def print_string(self):\n",
    "        print(self.string)\n",
    "\n",
    "s = String()\n",
    "s.get_string()\n",
    "s.print_string()"
   ]
  },
  {
   "cell_type": "code",
   "execution_count": 5,
   "metadata": {},
   "outputs": [
    {
     "name": "stdout",
     "output_type": "stream",
     "text": [
      "25\n"
     ]
    }
   ],
   "source": [
    "# Classes. Shape class with square subclass\n",
    "class Shape:\n",
    "    def area(self):\n",
    "        return 0\n",
    "\n",
    "class Square(Shape):\n",
    "    def __init__(self, length):\n",
    "        self.length = length\n",
    "\n",
    "    def area(self):\n",
    "        return self.length ** 2\n",
    "    \n",
    "s = Square(5)\n",
    "print(s.area())\n",
    "\n",
    "# Classes. Rectangle class inheriting from Shape\n",
    "class Rectangle(Shape):\n",
    "    def __init__(self, length, width):\n",
    "        self.length = length\n",
    "        self.width = width\n",
    "\n",
    "    def area(self):\n",
    "        return self.length * self.width\n",
    "\n",
    "r = Rectangle(5, 10)\n",
    "print(r.area())"
   ]
  },
  {
   "cell_type": "code",
   "execution_count": 7,
   "metadata": {},
   "outputs": [
    {
     "name": "stdout",
     "output_type": "stream",
     "text": [
      "(0, 0)\n",
      "(3, 4)\n",
      "5.0\n",
      "0.0\n"
     ]
    }
   ],
   "source": [
    "# Classes. Point class\n",
    "class Point:\n",
    "    def __init__(self, x, y):\n",
    "        self.x = x\n",
    "        self.y = y\n",
    "        \n",
    "    def show(self):\n",
    "        print(f\"({self.x}, {self.y})\")\n",
    "\n",
    "    def move(self, dx, dy):\n",
    "        self.x += dx\n",
    "        self.y += dy\n",
    "\n",
    "    def dist(self, point):\n",
    "        return ((self.x - point.x) ** 2 + (self.y - point.y) ** 2) ** 0.5\n",
    "\n",
    "p1 = Point(0, 0)\n",
    "p2 = Point(3, 4)\n",
    "p1.show()\n",
    "p2.show()\n",
    "print(p1.dist(p2))\n",
    "p1.move(3, 4)\n",
    "print(p1.dist(p2))"
   ]
  },
  {
   "cell_type": "code",
   "execution_count": 8,
   "metadata": {},
   "outputs": [
    {
     "name": "stdout",
     "output_type": "stream",
     "text": [
      "Balance: 1000\n",
      "Balance: 1500\n",
      "Insufficient funds.\n",
      "Balance: 1500\n"
     ]
    }
   ],
   "source": [
    "# Classes. Bank account class\n",
    "class Account:\n",
    "    def __init__(self, owner, balance):\n",
    "        self.owner = owner\n",
    "        self.balance = balance\n",
    "\n",
    "    def deposit(self, amount):\n",
    "        self.balance += amount\n",
    "\n",
    "    def withdraw(self, amount):\n",
    "        if self.balance >= amount:\n",
    "            self.balance -= amount\n",
    "        else:\n",
    "            print(\"Insufficient funds.\")\n",
    "\n",
    "    def show(self):\n",
    "        print(f\"Balance: {self.balance}\")\n",
    "\n",
    "a = Account(\"John\", 1000)\n",
    "a.show()\n",
    "a.deposit(500)\n",
    "a.show()\n",
    "a.withdraw(2000)\n",
    "a.show()"
   ]
  },
  {
   "cell_type": "code",
   "execution_count": 13,
   "metadata": {},
   "outputs": [
    {
     "name": "stdout",
     "output_type": "stream",
     "text": [
      "[]\n"
     ]
    }
   ],
   "source": [
    "# Classes. Filter primes with filter function and lambda\n",
    "arr = list(map(int, input(\"Enter a list of numbers: \").split()))\n",
    "primes = list(filter(lambda x: x > 1 and all(x % i != 0 for i in range(2, x)), arr))\n",
    "print(primes)"
   ]
  }
 ],
 "metadata": {
  "kernelspec": {
   "display_name": ".venv",
   "language": "python",
   "name": "python3"
  },
  "language_info": {
   "codemirror_mode": {
    "name": "ipython",
    "version": 3
   },
   "file_extension": ".py",
   "mimetype": "text/x-python",
   "name": "python",
   "nbconvert_exporter": "python",
   "pygments_lexer": "ipython3",
   "version": "3.12.6"
  }
 },
 "nbformat": 4,
 "nbformat_minor": 2
}
