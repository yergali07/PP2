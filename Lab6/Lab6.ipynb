{
 "cells": [
  {
   "cell_type": "code",
   "execution_count": 3,
   "metadata": {},
   "outputs": [
    {
     "name": "stdout",
     "output_type": "stream",
     "text": [
      "Directories in ' /Users/esbolusibaliev/yergali/PP2 ' :\n",
      "Files in ' /Users/esbolusibaliev/yergali/PP2 ' :\n",
      "Files and directories in ' /Users/esbolusibaliev/yergali/PP2 ' :\n",
      "reed.xml\n",
      "Lab6\n",
      "Lab2.py\n",
      ".DS_Store\n",
      "output.json\n",
      "test.py\n",
      "README.md\n",
      "Lab5\n",
      "Lab3\n",
      "Lab4\n",
      ".venv\n",
      "Lab1.py\n",
      ".git\n"
     ]
    }
   ],
   "source": [
    "# Python Directories and Files\n",
    "# N1\n",
    "import os\n",
    "\n",
    "def list_directories(path):\n",
    "    content = os.listdir(path)\n",
    "    print(\"Directories in '\", path, \"' :\")\n",
    "    for entry in content:\n",
    "        if os.path.isdir(entry):\n",
    "            print(entry)\n",
    "\n",
    "def list_files(path):\n",
    "    content = os.listdir(path)\n",
    "    print(\"Files in '\", path, \"' :\")\n",
    "    for entry in content:\n",
    "        if os.path.isfile(entry):\n",
    "            print(entry)\n",
    "\n",
    "def list_files_and_directories(path):\n",
    "    content = os.listdir(path)\n",
    "    print(\"Files and directories in '\", path, \"' :\")\n",
    "    for entry in content:\n",
    "        print(entry)\n",
    "\n",
    "path = input()\n",
    "list_directories(path)\n",
    "list_files(path)\n",
    "list_files_and_directories(path)"
   ]
  },
  {
   "cell_type": "code",
   "execution_count": null,
   "metadata": {},
   "outputs": [
    {
     "name": "stdout",
     "output_type": "stream",
     "text": [
      "Existence:  True\n",
      "Readability:  True\n",
      "Writability:  False\n",
      "Executability:  True\n"
     ]
    }
   ],
   "source": [
    "# N2\n",
    "import os\n",
    "\n",
    "path = input()\n",
    "\n",
    "print(\"Existence: \", os.path.exists(path))\n",
    "print(\"Readability: \", os.access(path, os.R_OK))\n",
    "print(\"Writability: \", os.access(path, os.W_OK))\n",
    "print(\"Executability: \", os.access(path, os.X_OK))"
   ]
  },
  {
   "cell_type": "code",
   "execution_count": 8,
   "metadata": {},
   "outputs": [
    {
     "name": "stdout",
     "output_type": "stream",
     "text": [
      "File name:  \n",
      "Directory portion:  /Users\n"
     ]
    }
   ],
   "source": [
    "# N3\n",
    "import os\n",
    "\n",
    "path = input()\n",
    "\n",
    "if os.path.exists(path):\n",
    "    print(\"File name: \", os.path.basename(path))\n",
    "    print(\"Directory portion: \", os.path.dirname(path))\n",
    "else:\n",
    "    print(\"Path does not exist.\")"
   ]
  },
  {
   "cell_type": "code",
   "execution_count": 9,
   "metadata": {},
   "outputs": [
    {
     "name": "stdout",
     "output_type": "stream",
     "text": [
      "Number of lines:  413\n"
     ]
    }
   ],
   "source": [
    "# N4\n",
    "import os\n",
    "\n",
    "path = input()\n",
    "\n",
    "if os.path.exists(path):\n",
    "    with open(path, 'r') as file:\n",
    "        lines = file.readlines()\n",
    "        print(\"Number of lines: \", len(lines))\n",
    "else:\n",
    "    print(\"File does not exist.\")"
   ]
  },
  {
   "cell_type": "code",
   "execution_count": null,
   "metadata": {},
   "outputs": [],
   "source": [
    "# N5\n",
    "import os\n",
    "\n",
    "path = input()\n",
    "\n",
    "content = ['Hello', 'World', 'Python', 'Programming']\n",
    "\n",
    "with open(path, 'w') as file:\n",
    "    for line in content:\n",
    "        file.write(line + '\\n')"
   ]
  },
  {
   "cell_type": "code",
   "execution_count": null,
   "metadata": {},
   "outputs": [],
   "source": [
    "# N6\n",
    "import os\n",
    "\n",
    "path = input()\n",
    "\n",
    "if os.path.exists(path):\n",
    "    for i in range(26):\n",
    "        with open(path + chr(65 + i) + '.txt', 'w') as file:\n",
    "            file.write(chr(65 + i))\n",
    "else:\n",
    "    print(\"Directory does not exist.\")\n"
   ]
  },
  {
   "cell_type": "code",
   "execution_count": 15,
   "metadata": {},
   "outputs": [],
   "source": [
    "# N7\n",
    "import os\n",
    "\n",
    "path1 = input()\n",
    "path2 = input()\n",
    "\n",
    "if os.path.exists(path1) and os.path.exists(path2):\n",
    "    with open(path1, 'r') as file1:\n",
    "        with open(path2, 'w') as file2:\n",
    "            content1 = file1.readlines()\n",
    "            for line in content1:\n",
    "                file2.write(line)\n",
    "else:\n",
    "    print(\"File does not exist.\")"
   ]
  },
  {
   "cell_type": "code",
   "execution_count": null,
   "metadata": {},
   "outputs": [],
   "source": [
    "# N8\n",
    "import os\n",
    "\n",
    "path = input()\n",
    "\n",
    "if os.path.exists(path):\n",
    "    if os.path.isfile(path):\n",
    "        os.remove(path)\n",
    "    else:\n",
    "        print(\"It is a directory.\")\n",
    "else:\n",
    "    print(\"Path does not exist.\")"
   ]
  }
 ],
 "metadata": {
  "kernelspec": {
   "display_name": ".venv",
   "language": "python",
   "name": "python3"
  },
  "language_info": {
   "codemirror_mode": {
    "name": "ipython",
    "version": 3
   },
   "file_extension": ".py",
   "mimetype": "text/x-python",
   "name": "python",
   "nbconvert_exporter": "python",
   "pygments_lexer": "ipython3",
   "version": "3.12.6"
  }
 },
 "nbformat": 4,
 "nbformat_minor": 2
}
