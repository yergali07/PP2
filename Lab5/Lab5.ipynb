{
 "cells": [
  {
   "cell_type": "code",
   "execution_count": 6,
   "metadata": {},
   "outputs": [
    {
     "name": "stdout",
     "output_type": "stream",
     "text": [
      "Yes, there is at least one match!\n"
     ]
    }
   ],
   "source": [
    "# Python Regex\n",
    "# N1\n",
    "import re\n",
    "\n",
    "raw = open('/Users/esbolusibaliev/yergali/PP2/Lab5/raw.txt', 'r')\n",
    "text = raw.read()\n",
    "\n",
    "pattern = 'ab*'\n",
    "x = re.findall(pattern, text)\n",
    "\n",
    "if x:\n",
    "    print('Yes, there is at least one match!')\n",
    "else:\n",
    "    print('No match')"
   ]
  },
  {
   "cell_type": "code",
   "execution_count": 33,
   "metadata": {},
   "outputs": [
    {
     "name": "stdout",
     "output_type": "stream",
     "text": [
      "No match\n"
     ]
    }
   ],
   "source": [
    "# N2\n",
    "pattern = 'ab{2,3}'\n",
    "x = re.findall(pattern, text)\n",
    "\n",
    "if x:\n",
    "    print('Yes, there is at least one match!')\n",
    "else:\n",
    "    print('No match')"
   ]
  },
  {
   "cell_type": "code",
   "execution_count": 31,
   "metadata": {},
   "outputs": [
    {
     "name": "stdout",
     "output_type": "stream",
     "text": [
      "No match\n"
     ]
    }
   ],
   "source": [
    "# N3\n",
    "pattern = '[a-zа-я]+_[a-zа-я]+'\n",
    "x = re.findall(pattern, text)\n",
    "\n",
    "if x:\n",
    "    print('Yes, there is at least one match!')\n",
    "else:\n",
    "    print('No match')"
   ]
  },
  {
   "cell_type": "code",
   "execution_count": 32,
   "metadata": {},
   "outputs": [
    {
     "name": "stdout",
     "output_type": "stream",
     "text": [
      "Yes, there is at least one match!\n"
     ]
    }
   ],
   "source": [
    "# N4\n",
    "pattern = '[A-ZА-Я][a-zа-я]+'\n",
    "x = re.findall(pattern, text)\n",
    "\n",
    "if x:\n",
    "    print('Yes, there is at least one match!')\n",
    "else:\n",
    "    print('No match')"
   ]
  },
  {
   "cell_type": "code",
   "execution_count": null,
   "metadata": {},
   "outputs": [],
   "source": [
    "# N5\n",
    "pattern = 'a.*b$'\n",
    "x = re.findall(pattern, text)\n",
    "\n",
    "if x:\n",
    "    print('Yes, there is at least one match!')\n",
    "else:\n",
    "    print('No match')"
   ]
  },
  {
   "cell_type": "code",
   "execution_count": null,
   "metadata": {},
   "outputs": [],
   "source": [
    "# N6\n",
    "pattern = '[,. ]'\n",
    "\n",
    "new_text = re.sub(pattern, ':', text)\n",
    "\n",
    "print(new_text)"
   ]
  },
  {
   "cell_type": "code",
   "execution_count": null,
   "metadata": {},
   "outputs": [],
   "source": [
    "# N7\n",
    "pattern = '(_[a-zа-я])'\n",
    "x = re.findall(pattern, text)\n",
    "\n",
    "for i in x:\n",
    "    text = text.replace(i, i[1].upper())\n",
    "\n",
    "print(text)"
   ]
  },
  {
   "cell_type": "code",
   "execution_count": 29,
   "metadata": {},
   "outputs": [
    {
     "name": "stdout",
     "output_type": "stream",
     "text": [
      "['', '', '', '', '', '', '', '', '\\n', 'илиал ', '', '', ' ', '', '', '', '', '', '', '', '', '', ' ', 'стана\\n', '', '', ' 080841000761\\n', '', '', ' ', 'ерия 58001\\n № 0014377\\n', 'асса 300-189\\n', 'мена 10\\n', 'орядковый номер чека №64\\n', 'ек №2331180266\\n', 'ассир ', 'птека 17-1\\n', '', '', '', '', '', '', '\\n1.\\n', 'атрия хлорид 0,9%, 200 мл, фл\\n2,000 x 154,00\\n308,00\\n', 'тоимость\\n308,00\\n2.\\n', 'орный спирт 3%, 20 мл, фл.\\n1,000 x 51,00\\n51,00\\n', 'тоимость\\n51,00\\n3.\\n', 'приц 2 мл, 3-х комп. (', 'ioject)\\n2,000 x 16,00\\n32,00\\n', 'тоимость\\n32,00\\n4.\\n', 'истема для инфузии ', 'ogt ', 'edical\\n2,000 x 60,00\\n120,00\\n', 'тоимость\\n120,00\\n5.\\n', 'aturella прокладки ', 'лассик макси №8\\n1,000 x 310,00\\n310,00\\n', 'тоимость\\n310,00\\n6.\\n', '', '', '', ' ', 'атные диски №150\\n1,000 x 461,00\\n461,00\\n', 'тоимость\\n461,00\\n7.\\n', 'истая линия скраб мягкий 50 мл\\n1,000 x 381,00\\n381,00\\n', 'тоимость\\n381,00\\n8.\\n', 'истая линия  скраб очищающийабрикос 50 мл\\n1,000 x 386,00\\n386,00\\n', 'тоимость\\n386,00\\n9.\\n', 'истая линия скраб мягкий 50 мл\\n1,000 x 381,00\\n381,00\\n', 'тоимость\\n381,00\\n10.\\n', 'arefree салфетки ', 'лоэвоздухопроницаемые №20\\n1,000 x 414,00\\n414,00\\n', 'тоимость\\n414,00\\n11.\\n', 'ro ', 'eries ', 'ампунь яркий цвет 500мл\\n1,000 x 841,00\\n841,00\\n', 'тоимость\\n841,00\\n12.\\n', 'ro ', 'eries бальзам-ополаскивательдля длител ухода за окрашеннымиволосами ', 'ркий цвет 500мл\\n1,000 x 841,00\\n841,00\\n', 'тоимость\\n841,00\\n13.\\n', 'lear шампунь ', 'ктив спорт 2в1мужской  400 мл\\n1,000 x 1 200,00\\n1 200,00\\n', 'тоимость\\n1 200,00\\n14.\\n', 'io ', 'orld (', '', '', '', '', ' ', '', '', '', '', '', '', ')', 'ицеллярная вода 5в1, 445мл\\n1,000 x 1 152,00\\n1 152,00\\n', 'тоимость\\n1 152,00\\n15.\\n', 'io ', 'orld (', '', '', '', '', ' ', '', '', '', '', '', '', ') ', 'ель-муссдля умывания с гиалуроновойкислотой, 250мл\\n1,000 x 1 152,00\\n1 152,00\\n', 'тоимость\\n1 152,00\\n16.\\n[', '', ']-', 'атрия хлорид 0,9%, 100 мл, фл.\\n1,000 x 168,00\\n168,00\\n', 'тоимость\\n168,00\\n17.\\n[', '', ']-', 'исоль р-р 400 мл, фл.\\n1,000 x 163,00\\n163,00\\n', 'тоимость\\n163,00\\n18.\\n', 'агансорбент с иономи серебра №30,пор.\\n1,000 x 1 526,00\\n1 526,00\\n', 'тоимость\\n1 526,00\\n19.\\n[', '', ']-', 'ерукал 2%, 2 мл, №10, амп.\\n2,000 x 396,00\\n792,00\\n', 'тоимость\\n792,00\\n20.\\n[', '', ']-', 'ндазол 200 мг, №40, табл.\\n1,000 x 7 330,00\\n7 330,00\\n', 'тоимость\\n7 330,00\\n', 'анковская карта:\\n18 009,00\\n', '', '', '', '', ':\\n18 009,00\\nв т.ч. ', '', '', ' 12%:\\n0,00\\n', 'искальный признак:\\n2331180266\\n', 'ремя: 18.04.2019 11:13:58\\nг. ', 'ур-султан,', 'азахстан, ', 'ангилик ', 'л,19, нп-5\\n', 'ператор фискальных данных: ', '', '\"', 'азахтелеком\"', 'ля проверки чека зайдите на сайт:consumer.oofd.kz\\n', '', '', '', '', '', '', '', '', '', ' ', '', '', '\\n', '', '\\n', '', '', ' ', '', '', ': 311559\\n', 'од ', '', '', ' ', '', '', ' (', '', '', '): 620300145316\\n', '', '', ': ', '', '', '00034961\\n', '', '', '', '', '', '', '', '.', '', '']\n"
     ]
    }
   ],
   "source": [
    "# N8\n",
    "pattern = '[A-ZА-Я]'\n",
    "x = re.split(pattern, text)\n",
    "\n",
    "print(x)"
   ]
  },
  {
   "cell_type": "code",
   "execution_count": null,
   "metadata": {},
   "outputs": [],
   "source": [
    "# N9\n",
    "pattern = '([A-ZА-Я][a-zа-я]+)'\n",
    "x = re.findall(pattern, text)\n",
    "\n",
    "for i in x:\n",
    "    text = text.replace(i, ' ' + i)\n",
    "\n",
    "print(text)"
   ]
  },
  {
   "cell_type": "code",
   "execution_count": null,
   "metadata": {},
   "outputs": [
    {
     "name": "stdout",
     "output_type": "stream",
     "text": [
      "camel_case\n"
     ]
    }
   ],
   "source": [
    "# N10\n",
    "s = input()\n",
    "pattern = '([A-ZА-Я][a-zа-я]+)'\n",
    "x = re.findall(pattern, s)\n",
    "\n",
    "for i in x:\n",
    "    s = s.replace(i, '_' + i.lower())\n",
    "\n",
    "print(s)\n"
   ]
  }
 ],
 "metadata": {
  "kernelspec": {
   "display_name": ".venv",
   "language": "python",
   "name": "python3"
  },
  "language_info": {
   "codemirror_mode": {
    "name": "ipython",
    "version": 3
   },
   "file_extension": ".py",
   "mimetype": "text/x-python",
   "name": "python",
   "nbconvert_exporter": "python",
   "pygments_lexer": "ipython3",
   "version": "3.12.6"
  }
 },
 "nbformat": 4,
 "nbformat_minor": 2
}
